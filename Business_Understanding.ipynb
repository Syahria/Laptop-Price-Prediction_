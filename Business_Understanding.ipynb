{
  "nbformat": 4,
  "nbformat_minor": 0,
  "metadata": {
    "colab": {
      "provenance": []
    },
    "kernelspec": {
      "name": "python3",
      "display_name": "Python 3"
    },
    "language_info": {
      "name": "python"
    }
  },
  "cells": [
    {
      "cell_type": "code",
      "execution_count": null,
      "metadata": {
        "id": "S1v2tufb__Tp"
      },
      "outputs": [],
      "source": []
    },
    {
      "cell_type": "markdown",
      "source": [
        "# **Prediksi Harga Laptop berdasarkan Fitur-Fitur yang ada pada Laptop**\n",
        "\n"
      ],
      "metadata": {
        "id": "VZO1DG2IEzsI"
      }
    },
    {
      "cell_type": "markdown",
      "source": [
        "# Business Understanding"
      ],
      "metadata": {
        "id": "EdGg4oFIFCem"
      }
    },
    {
      "cell_type": "markdown",
      "source": [
        "**Business Objective**\n",
        "\n",
        "Tujuan dari dataset ini adalah untuk membantu perusahaan dalam harga laptop, sehingga produk tidak terlalu mahal atau terlalu murah dipasaran dan juga untuk memberikan pemahaman yang lebih baik mengenai preferensi konsumen terhadap fitur-fitur laptop, sehingga memungkinkan perusahaan untuk membuat produk yang sesuai dengan keinginan pelanggan dan kebutuhan pasar.\n",
        "\n",
        "\n",
        "**Assess Situation**\n",
        "\n",
        "Situasi bisnis ini menggambarkan keinginan untuk lebih memahami faktor-faktor yang berkontribusi pada penentuan harga laptop. Adanya simulasi harga menunjukkan upaya untuk menguji seberapa baik variasi fitur dapat mempengaruhi harga secara keseluruhan, sehingga diharapkan dapat membantu perusahaan untuk menetapkan harga yang lebih akurat dan bersaing dipasar.\n",
        "\n",
        "\n",
        "**Data Mining Goals**\n",
        "\n",
        "Tujuan dari data mining pada proyek prediksi harga laptop berdasarkan fitur-fiturnya adalah sebagai berikut:\n",
        "\n",
        "1.   mengidentifikasi pola hubungan yang mungkin ada antara fitur-fitur laptop seperti merek, kecepatan prosesor, ukuran RAM, kapasitas penyimpanan, ukuran layar, dan berat dengan harga. Hal ini bertujuan untuk bertujuan untuk memahami bagaimana fitur-fitur tersebut berperan dalam menentukan harga.\n",
        "\n",
        "2.   mengembangkan model prediktif yang dapat memberikan estimasi harga laptop berdasarkan fiturnya.\n",
        "\n",
        "3.   menemukan fitur-fitur yang memiliki pengaruh signifikan terhadap harga, membantu perusahaan untuk lebih fokus dalam mengembangkan produk.\n",
        "\n",
        "\n",
        "**Project Plan**\n",
        "Rencana proyek ini dimulai dengan pengumpulan data, kemudian mengidentifikasi dan memperoleh dataset yang mencakup informasi harga laptop, merek, kecepatan prosesor, ukuran RAM, kapasitas penyimpanan, ukuran layar, dan berat. Setelah itu, akan dilakukan pemahaman awal terhadap data untuk mengidentifikasi karakteristik dan mengatasi nilai yang hilang. Langkah selanjutnya adalah persiapan data, dimana kami akan membersihkan dan memproses data agar siap digunakan, setelah itu memilih dan mengimplementasikan algoritma pembelajaran mesin yang tepat untuk memprediksi harga laptop berdasarkan fiturnya."
      ],
      "metadata": {
        "id": "ws49lkHPAL2w"
      }
    },
    {
      "cell_type": "markdown",
      "source": [],
      "metadata": {
        "id": "LRR9miIPHa_r"
      }
    }
  ]
}